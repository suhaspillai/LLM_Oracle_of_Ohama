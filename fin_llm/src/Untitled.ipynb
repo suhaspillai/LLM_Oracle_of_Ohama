{
 "cells": [
  {
   "cell_type": "code",
   "execution_count": 1,
   "id": "a0971886",
   "metadata": {},
   "outputs": [],
   "source": [
    "from datasets import load_dataset"
   ]
  },
  {
   "cell_type": "code",
   "execution_count": 2,
   "id": "a398af9d",
   "metadata": {},
   "outputs": [
    {
     "data": {
      "application/vnd.jupyter.widget-view+json": {
       "model_id": "298f73e9666148b7bb19d217d6617126",
       "version_major": 2,
       "version_minor": 0
      },
      "text/plain": [
       "Downloading builder script:   0%|          | 0.00/4.41k [00:00<?, ?B/s]"
      ]
     },
     "metadata": {},
     "output_type": "display_data"
    },
    {
     "data": {
      "application/vnd.jupyter.widget-view+json": {
       "model_id": "0c011d6538ac4bad878648db429fc5ae",
       "version_major": 2,
       "version_minor": 0
      },
      "text/plain": [
       "Downloading metadata:   0%|          | 0.00/2.04k [00:00<?, ?B/s]"
      ]
     },
     "metadata": {},
     "output_type": "display_data"
    },
    {
     "data": {
      "application/vnd.jupyter.widget-view+json": {
       "model_id": "f660b260fd7a47cbbd60feaf1e2be33e",
       "version_major": 2,
       "version_minor": 0
      },
      "text/plain": [
       "Downloading readme:   0%|          | 0.00/6.55k [00:00<?, ?B/s]"
      ]
     },
     "metadata": {},
     "output_type": "display_data"
    },
    {
     "data": {
      "application/vnd.jupyter.widget-view+json": {
       "model_id": "10c0408a583a4b2f93b92e1370ee91cb",
       "version_major": 2,
       "version_minor": 0
      },
      "text/plain": [
       "Downloading data:   0%|          | 0.00/196M [00:00<?, ?B/s]"
      ]
     },
     "metadata": {},
     "output_type": "display_data"
    },
    {
     "data": {
      "application/vnd.jupyter.widget-view+json": {
       "model_id": "7f5619e6f2ee4e21b4dd417af85deed8",
       "version_major": 2,
       "version_minor": 0
      },
      "text/plain": [
       "Generating train split:   0%|          | 0/650000 [00:00<?, ? examples/s]"
      ]
     },
     "metadata": {},
     "output_type": "display_data"
    },
    {
     "data": {
      "application/vnd.jupyter.widget-view+json": {
       "model_id": "bd95c449a4e348079abd30b1f4a8764b",
       "version_major": 2,
       "version_minor": 0
      },
      "text/plain": [
       "Generating test split:   0%|          | 0/50000 [00:00<?, ? examples/s]"
      ]
     },
     "metadata": {},
     "output_type": "display_data"
    }
   ],
   "source": [
    "dataset = load_dataset(\"yelp_review_full\")"
   ]
  },
  {
   "cell_type": "code",
   "execution_count": 3,
   "id": "21c85bae",
   "metadata": {},
   "outputs": [
    {
     "data": {
      "text/plain": [
       "{'label': 0,\n",
       " 'text': 'My expectations for McDonalds are t rarely high. But for one to still fail so spectacularly...that takes something special!\\\\nThe cashier took my friends\\'s order, then promptly ignored me. I had to force myself in front of a cashier who opened his register to wait on the person BEHIND me. I waited over five minutes for a gigantic order that included precisely one kid\\'s meal. After watching two people who ordered after me be handed their food, I asked where mine was. The manager started yelling at the cashiers for \\\\\"serving off their orders\\\\\" when they didn\\'t have their food. But neither cashier was anywhere near those controls, and the manager was the one serving food to customers and clearing the boards.\\\\nThe manager was rude when giving me my order. She didn\\'t make sure that I had everything ON MY RECEIPT, and never even had the decency to apologize that I felt I was getting poor service.\\\\nI\\'ve eaten at various McDonalds restaurants for over 30 years. I\\'ve worked at more than one location. I expect bad days, bad moods, and the occasional mistake. But I have yet to have a decent experience at this store. It will remain a place I avoid unless someone in my party needs to avoid illness from low blood sugar. Perhaps I should go back to the racially biased service of Steak n Shake instead!'}"
      ]
     },
     "execution_count": 3,
     "metadata": {},
     "output_type": "execute_result"
    }
   ],
   "source": [
    "dataset['train'][100]"
   ]
  },
  {
   "cell_type": "code",
   "execution_count": 4,
   "id": "18d3d9e3",
   "metadata": {},
   "outputs": [],
   "source": [
    "from transformers import AutoTokenizer"
   ]
  },
  {
   "cell_type": "code",
   "execution_count": 5,
   "id": "8d1d45a7",
   "metadata": {},
   "outputs": [
    {
     "data": {
      "application/vnd.jupyter.widget-view+json": {
       "model_id": "615a0877a83e4ab5842d487dccfe979e",
       "version_major": 2,
       "version_minor": 0
      },
      "text/plain": [
       "tokenizer_config.json:   0%|          | 0.00/29.0 [00:00<?, ?B/s]"
      ]
     },
     "metadata": {},
     "output_type": "display_data"
    },
    {
     "data": {
      "application/vnd.jupyter.widget-view+json": {
       "model_id": "8f31000724f544be8d8381f285bf877d",
       "version_major": 2,
       "version_minor": 0
      },
      "text/plain": [
       "config.json:   0%|          | 0.00/570 [00:00<?, ?B/s]"
      ]
     },
     "metadata": {},
     "output_type": "display_data"
    },
    {
     "data": {
      "application/vnd.jupyter.widget-view+json": {
       "model_id": "17bceec3ec2b401180376a9524207612",
       "version_major": 2,
       "version_minor": 0
      },
      "text/plain": [
       "vocab.txt:   0%|          | 0.00/213k [00:00<?, ?B/s]"
      ]
     },
     "metadata": {},
     "output_type": "display_data"
    },
    {
     "data": {
      "application/vnd.jupyter.widget-view+json": {
       "model_id": "842e06d3f1304cdca5da79e04272c28b",
       "version_major": 2,
       "version_minor": 0
      },
      "text/plain": [
       "tokenizer.json:   0%|          | 0.00/436k [00:00<?, ?B/s]"
      ]
     },
     "metadata": {},
     "output_type": "display_data"
    }
   ],
   "source": [
    "tokenizer = AutoTokenizer.from_pretrained(\"bert-base-cased\")"
   ]
  },
  {
   "cell_type": "code",
   "execution_count": 6,
   "id": "7cf2ecfe",
   "metadata": {},
   "outputs": [],
   "source": [
    "def tokenize_function(examples):\n",
    "    return tokenizer(examples[\"text\"], padding=\"max_length\", truncation=True)"
   ]
  },
  {
   "cell_type": "code",
   "execution_count": 7,
   "id": "cf3b237d",
   "metadata": {},
   "outputs": [
    {
     "data": {
      "application/vnd.jupyter.widget-view+json": {
       "model_id": "e171c56282f34d2b84af84e82f6604dd",
       "version_major": 2,
       "version_minor": 0
      },
      "text/plain": [
       "Map:   0%|          | 0/650000 [00:00<?, ? examples/s]"
      ]
     },
     "metadata": {},
     "output_type": "display_data"
    },
    {
     "data": {
      "application/vnd.jupyter.widget-view+json": {
       "model_id": "a9277b3bb8f14efaa1f918e37ac02f37",
       "version_major": 2,
       "version_minor": 0
      },
      "text/plain": [
       "Map:   0%|          | 0/50000 [00:00<?, ? examples/s]"
      ]
     },
     "metadata": {},
     "output_type": "display_data"
    }
   ],
   "source": [
    "tokenized_datasets = dataset.map(tokenize_function, batched=True)"
   ]
  },
  {
   "cell_type": "code",
   "execution_count": 8,
   "id": "fb0d67a7",
   "metadata": {},
   "outputs": [],
   "source": [
    "import datasets"
   ]
  },
  {
   "cell_type": "code",
   "execution_count": 9,
   "id": "8f88d1c2",
   "metadata": {},
   "outputs": [],
   "source": [
    "dataset_path = '/home/suhaspillai/Suhas/git/llms/ask-fsdl/fin_llm/src/fingpt-forecaster-dow30v3-20230831-20231208-llama'"
   ]
  },
  {
   "cell_type": "code",
   "execution_count": 10,
   "id": "5cb93bf8",
   "metadata": {},
   "outputs": [],
   "source": [
    "dataset=datasets.load_from_disk(dataset_path)"
   ]
  },
  {
   "cell_type": "code",
   "execution_count": 13,
   "id": "aaaa2e8d",
   "metadata": {},
   "outputs": [
    {
     "data": {
      "text/plain": [
       "{'prompt': '[INST]<<SYS>>\\nYou are a seasoned stock market analyst. Your task is to list the positive developments and potential concerns for companies based on relevant news and basic financials from the past weeks, then provide an analysis and prediction for the companies\\' stock price movement for the upcoming week. Your answer format should be as follows:\\n\\n[Positive Developments]:\\n1. ...\\n\\n[Potential Concerns]:\\n1. ...\\n\\n[Prediction & Analysis]\\nPrediction: ...\\nAnalysis: ...\\n\\n<</SYS>>\\n\\n[Company Introduction]:\\n\\nMicrosoft Corp is a leading entity in the Technology sector. Incorporated and publicly traded since 1986-03-13, the company has established its reputation as one of the key players in the market. As of today, Microsoft Corp has a market capitalization of 2781375.53 in USD, with 7432.26 shares outstanding.\\n\\nMicrosoft Corp operates primarily in the US, trading under the ticker MSFT on the NASDAQ NMS - GLOBAL MARKET. As a dominant force in the Technology space, the company continues to innovate and drive progress within the industry.\\n\\nFrom 2023-11-12 to 2023-11-19, MSFT\\'s stock price increased from 368.92 to 369.85. Company news during this period are listed below:\\n\\n[Headline]: V.F. Corp. upgraded at JPMorgan, Microsoft unveils AI chip\\n[Summary]: Shares of apparel and footwear brand V.F. Corporation (VFC) rose after JPMorgan upgraded the stock to \"Neutral\" from \"Underweight,\" citing the company\\'s turnaround plans. Microsoft (MSFT) unveiled its first custom AI chip called \"Maia 100.\" The tech giant also unveiled a chip for cloud computing. For more expert insight and the latest market action, click here to watch this full episode of Yahoo Finance Live.\\n\\n[Headline]: LSE Group: when equities are no longer the stock in trade\\n[Summary]: The 300-year-old exchange makes under 4% of its revenues from listing and dealing stocks, as it has become one of the world’s biggest financial data groups\\n\\n[Headline]: \\'Magnificent Seven\\' stocks enjoyed a blistering 2023. Here\\'s what it would take for that rally to spill over into 2024.\\n[Summary]: The Magnificent Seven have had an incredible run in 2023, Goldman Sachs notes. But what are the chances it might continue in the New Year?\\n\\n[Headline]: Alibaba: 2 Negatives Priced In, Better Positioned For 2024\\n[Summary]: The September quarter results and the earnings call confirm slower Y/Y revenue growth this quarter in all main segments. Explore more details here.\\n\\n[Headline]: Microsoft’s stock extends losses as OpenAI’s Altman departs as CEO\\n[Summary]: Microsoft Corp. shares extended their decline late in Friday’s session as OpenAI announced that Sam Altman has stepped down as chief executive of the ChatGPT...\\n\\nFrom 2023-11-19 to 2023-11-26, MSFT\\'s stock price increased from 369.85 to 377.43. Company news during this period are listed below:\\n\\n[Headline]: How To Hedge Your Big Tech Gains With PSQ\\n[Summary]: Invest in ProShares Short QQQ ETF for a hedge against Big Tech losses, with a strong dividend yield and daily rebalancing to limit net losses. Read more here.\\n\\n[Headline]: Stocks called flat ahead of autumn statement\\n[Summary]: Stocks in London are set to open flat on Wednesday, with the focus to be on Chancellor Jeremy Hunt\\'s autumn statement. IG says futures indicate the FTSE 100 to open up 2.7 points at 7,484.69 on...\\n\\n[Headline]: Lessons from the corporate governance \\'mess\\' at OpenAI\\n[Summary]: A boardroom drama at OpenAI appears to be over. The lesson that will linger is the importance of governance to the stability of any company.\\n\\n[Headline]: BUZZ Investing: U.S. Stocks Fluctuate Amid Fed Policy Predictions\\n[Summary]: Domestic equities were little changed during the recent period between Index selection dates (October 12, 2023 to November 9, 2023, the â\\x80\\x9cPeriodâ\\x80\\x9d).\\n\\n[Headline]: 20 Most Disabled-Friendly Countries in the World\\n[Summary]: In this article, we shall discuss the 20 most disabled-friendly countries in the world. To skip our detailed analysis of the importance of diversity, equity and inclusion (DE&I) practices within the current business landscape in 2023, go directly and see 5 Most Disabled-Friendly Countries in the World. According to a 2018 report by McKinsey, the […]\\n\\nFrom 2023-11-26 to 2023-12-03, MSFT\\'s stock price decreased from 377.43 to 374.51. Company news during this period are listed below:\\n\\n[Headline]: Microsoft to join OpenAI board as Altman officially returns as CEO\\n[Summary]: Investing.com-- Microsoft will take a spot in OpenAI’s board of directors, returning CEO Sam Altman said on Thursday, as the artificial intelligence firm stabilizes after a major upheaval in its leadership earlier in November.\\n\\n[Headline]: Microsoft will have observer role on OpenAI’s new board\\n[Summary]: Key investor in generative AI start-up seeks to strengthen corporate governance after week of tumult\\n\\n[Headline]: 20 Most Respected Professions in the US\\n[Summary]: In this article, we will look at the 20 most respected professions in the US. We have also discussed the big giants that are helping to reduce the work burden for these professions. If you want to skip our detailed analysis, head straight to the 5 Most Respected Professions in the US. There are presitigous […]\\n\\n[Headline]: Better AI Stock: Confluent vs. HubSpot\\n[Summary]: Confluent (NASDAQ: CFLT) and Hubspot (NYSE: HUBS) are both cloud-based software companies that have been upgrading their platforms with artificial intelligence (AI) features.  Confluent\\'s platform processes \"data in motion\" as it flows between an organization\\'s different applications and services, and it recently rolled out new tools to analyze data streams from AI applications.  Hubspot has been embedding new AI tools across its entire ecosystem of cloud-based customer relationship management (CRM), marketing, analytics, and data visualization services.\\n\\n[Headline]: CrowdStrike Is Too Rich Here - Generative AI Hype In Overdrive\\n[Summary]: CrowdStrike\\'s long-term prospects remain stellar, thanks to robust generative AI demand. Check out why we rate CRWD stock a hold now.\\n\\n[Basic Financials]:\\n\\nNo basic financial reported.\\n\\nBased on all the information before 2023-12-03, let\\'s first analyze the positive developments and potential concerns for MSFT. Come up with 2-4 most important factors respectively and keep them concise. Most factors should be inferred from company related news. Then make your prediction of the MSFT stock price movement for next week (2023-12-03 to 2023-12-10). Provide a summary analysis to support your prediction.[/INST]',\n",
       " 'answer': '[Positive Developments]:\\n1. Microsoft unveiled \"Maia 100\", its first custom AI chip showing the company\\'s advancement in innovation and competitive standing in the market.\\n2. Microsoft is solidifying its relationship with AI firm OpenAI by taking a spot on their board of directors, which may potentially lead to more collaborations and strategic advantages in the future.\\n\\n[Potential Concerns]:\\n1. The departure of Sam Altman, CEO of OpenAI, caused a temporary drop in Microsoft’s shares, indicating that the company\\'s stock price can be significantly affected by changes in leadership of associated companies.\\n2. Although Sam Altman returned as CEO, Microsoft having only an observer role on OpenAI’s new board may limit their influence over important decisions.\\n\\n[Prediction & Analysis]:\\nPrediction: Down by 0-1%\\nAnalysis: Over the week from 2023-12-03 to 2023-12-10, the stock price of Microsoft Corp is expected to decline slightly by 0-1%. While Microsoft continues to innovate in areas such as AI, the uncertainty arising from leadership changes in associated company OpenAI might affect investor sentiment in the short-term. Although Microsoft\\'s innovation strategy is robust, the temporary instability in key partnerships might lead to a small dip in the stock price for this particular week.',\n",
       " 'period': '2023-12-03 to 2023-12-10',\n",
       " 'label': 'down by 0-1%',\n",
       " 'symbol': 'MSFT'}"
      ]
     },
     "execution_count": 13,
     "metadata": {},
     "output_type": "execute_result"
    }
   ],
   "source": [
    "dataset['test'][0]"
   ]
  },
  {
   "cell_type": "code",
   "execution_count": 14,
   "id": "034e4ec0",
   "metadata": {},
   "outputs": [],
   "source": [
    "  model_name = \"NousResearch/Llama-2-7b-chat-hf\"\n",
    "  tokenizer = AutoTokenizer.from_pretrained(model_name, trust_remote_code=True)\n",
    "  tokenizer.pad_token = tokenizer.eos_token\n",
    "  tokenizer.padding_side = \"right\""
   ]
  },
  {
   "cell_type": "code",
   "execution_count": 25,
   "id": "c50e924c",
   "metadata": {},
   "outputs": [],
   "source": [
    "#input_ids = tokenizer.encode(dataset['train'][0]['prompt'])\n",
    "input_ids = tokenizer.encode(\"[INST]<<SYS>>Suhas Suhas<</SYS>>[/INST]\")"
   ]
  },
  {
   "cell_type": "code",
   "execution_count": 26,
   "id": "3430c1f1",
   "metadata": {},
   "outputs": [
    {
     "name": "stdout",
     "output_type": "stream",
     "text": [
      "21 [1, 518, 25580, 29962, 9314, 14816, 29903, 6778, 5091, 5349, 2166, 5349, 29966, 829, 14816, 29903, 6778, 29961, 29914, 25580, 29962]\n"
     ]
    }
   ],
   "source": [
    "print(len(input_ids), input_ids)"
   ]
  },
  {
   "cell_type": "code",
   "execution_count": 18,
   "id": "71131e9a",
   "metadata": {},
   "outputs": [
    {
     "data": {
      "text/plain": [
       "(4076, 1096)"
      ]
     },
     "execution_count": 18,
     "metadata": {},
     "output_type": "execute_result"
    }
   ],
   "source": [
    "len(dataset['train'][0]['prompt']), len(input_ids)"
   ]
  },
  {
   "cell_type": "code",
   "execution_count": 62,
   "id": "fa2505b9",
   "metadata": {},
   "outputs": [],
   "source": [
    "dataset=datasets.load_from_disk(dataset_path)"
   ]
  },
  {
   "cell_type": "code",
   "execution_count": 63,
   "id": "d9533d6c",
   "metadata": {},
   "outputs": [
    {
     "data": {
      "text/plain": [
       "'[INST]<<SYS>>\\nYou are a seasoned stock market analyst. Your task is to list the positive developments and potential concerns for companies based on relevant news and basic financials from the past weeks, then provide an analysis and prediction for the companies\\' stock price movement for the upcoming week. Your answer format should be as follows:\\n\\n[Positive Developments]:\\n1. ...\\n\\n[Potential Concerns]:\\n1. ...\\n\\n[Prediction & Analysis]\\nPrediction: ...\\nAnalysis: ...\\n\\n<</SYS>>\\n\\n[Company Introduction]:\\n\\nMicrosoft Corp is a leading entity in the Technology sector. Incorporated and publicly traded since 1986-03-13, the company has established its reputation as one of the key players in the market. As of today, Microsoft Corp has a market capitalization of 2781375.53 in USD, with 7432.26 shares outstanding.\\n\\nMicrosoft Corp operates primarily in the US, trading under the ticker MSFT on the NASDAQ NMS - GLOBAL MARKET. As a dominant force in the Technology space, the company continues to innovate and drive progress within the industry.\\n\\nFrom 2023-09-03 to 2023-09-10, MSFT\\'s stock price increased from 327.99 to 333.59. Company news during this period are listed below:\\n\\n[Headline]: EMEA Morning Briefing : Investor Sentiment Seen -2-\\n[Summary]: The U.K. is set to re-enter the European Union\\'s flagship scientific research program, according to two people familiar with discussions, the biggest step by the U.K. to tighten ties with the bloc...\\n\\n[Headline]: AI, Microsoft \\'creep\\', tech stock concerns: Top takeaways from Goldman Sachs\\' tech conference\\n[Summary]: The Goldman Sachs Communacopia + Technology Conference is wrapping up. Yahoo Finance Executive Editor Brian Sozzi interviewed everyone from AT&T\\'s CEO (T) to the CEO of Paramount Global (PARA). Sozzi noted that there was a lot of talk about AI. He also pointed out what he called \"Microsoft creep\" (MSFT) and the growing concerns about the company\\'s relationship with ChatGPT parent OpenAI. Sozzi also says there is \"a little bit less appetite\" for owning big-cap tech stocks given higher interest rates and China concerns. The last thing Sozzi points out is that it\\'s \"not a great time to be a tech company in a turnaround,\" specifically pointing out how Peloton\\'s stock (PTON) fell following comments from the company\\'s CFO at the conference. Click here for more of Yahoo Finance\\'s coverage from the Goldman Sachs Communacopia tech conference.\\n\\n[Headline]: Microsoft assumes legal liability as artists, authors battle AI encroachment\\n[Summary]: Artificial intelligence models, such as ChatGPT, are language models at their core.  In order to create their responses, these models were fed an enormous amount of written material, without the knowledge, consent or compensation of the people who created that material, notably artists and writers.  Author and comedian Sarah Silverman brought a lawsuit against OpenAI and Meta in July, claiming that OpenAI\\'s ChatGPT and Meta\\'s LLaMA were trained illegally on her material. A class action lawsuit alleging that OpenAI scraped \"every piece of data on the internet it could take,\" without the consent of millions of users, was brought against the company in June.\\n\\n[Headline]: Get Ready for a Huge Week in Tech. These 3 Events Could Change Everything. \\n[Summary]: The next few days will bring a new iPhone, a federal trial against Google, and the year’s largest IPO—from Arm Holdings.\\n\\n[Headline]: Microsoft (MSFT) Pledges Copyright Protection for Copilot Users\\n[Summary]: Microsoft (MSFT) is set to defend commercial customers using its AI Copilot services against copyright lawsuits.\\n\\n[Basic Financials]:\\n\\nNo basic financial reported.\\n\\nBased on all the information before 2023-09-10, let\\'s first analyze the positive developments and potential concerns for MSFT. Come up with 2-4 most important factors respectively and keep them concise. Most factors should be inferred from company related news. Then make your prediction of the MSFT stock price movement for next week (2023-09-10 to 2023-09-17). Provide a summary analysis to support your prediction.[/INST]'"
      ]
     },
     "execution_count": 63,
     "metadata": {},
     "output_type": "execute_result"
    }
   ],
   "source": [
    "dataset['train'][0]['prompt']"
   ]
  },
  {
   "cell_type": "code",
   "execution_count": 84,
   "id": "4e54c830",
   "metadata": {},
   "outputs": [
    {
     "data": {
      "text/plain": [
       "7"
      ]
     },
     "execution_count": 84,
     "metadata": {},
     "output_type": "execute_result"
    }
   ],
   "source": [
    "int(len(dataset['train'])*0.1)"
   ]
  },
  {
   "cell_type": "code",
   "execution_count": 76,
   "id": "a2c276fb",
   "metadata": {},
   "outputs": [],
   "source": [
    "eval = dataset['train'].shuffle(seed=1234).select(range(5))"
   ]
  },
  {
   "cell_type": "code",
   "execution_count": 66,
   "id": "57f810c4",
   "metadata": {},
   "outputs": [],
   "source": [
    "eval_dataset = original_dataset['test'].shuffle(seed=42).select(range(50))"
   ]
  },
  {
   "cell_type": "code",
   "execution_count": 82,
   "id": "87046a51",
   "metadata": {},
   "outputs": [
    {
     "data": {
      "text/plain": [
       "{'prompt': '[INST]<<SYS>>\\nYou are a seasoned stock market analyst. Your task is to list the positive developments and potential concerns for companies based on relevant news and basic financials from the past weeks, then provide an analysis and prediction for the companies\\' stock price movement for the upcoming week. Your answer format should be as follows:\\n\\n[Positive Developments]:\\n1. ...\\n\\n[Potential Concerns]:\\n1. ...\\n\\n[Prediction & Analysis]\\nPrediction: ...\\nAnalysis: ...\\n\\n<</SYS>>\\n\\n[Company Introduction]:\\n\\nTesla Inc is a leading entity in the Automobiles sector. Incorporated and publicly traded since 2010-06-09, the company has established its reputation as one of the key players in the market. As of today, Tesla Inc has a market capitalization of 775148.19 in USD, with 3178.92 shares outstanding.\\n\\nTesla Inc operates primarily in the US, trading under the ticker TSLA on the NASDAQ NMS - GLOBAL MARKET. As a dominant force in the Automobiles space, the company continues to innovate and drive progress within the industry.\\n\\nFrom 2023-10-15 to 2023-10-22, TSLA\\'s stock price decreased from 251.12 to 211.99. Company news during this period are listed below:\\n\\n[Headline]: Most big cryptocurrencies decrease as Ripple declines\\n[Summary]: Most large cryptocurrencies were down during morning trading on Thursday, with Ripple seeing the biggest move, declining 1.24% to 48 cents. Six additional...\\n\\n[Headline]: Tesla: Expect Shares To Rerate Lower On Reality Biting Growth And Margins\\n[Summary]: Tesla, Inc. Q3 2023 results fell short of expectations, with revenue growth and margins disappointing. Find out why TSLA stock is a Sell.\\n\\n[Headline]: Tesla\\'s 3Q Analyst Call Among Its Most Cautious In Years\\n[Summary]: Tesla\\'s 3Q conference call on Wednesday was among the most cautious Morgan Stanley analyst Adam Jonas has heard in years and set the stage for the negative stock reaction. Elon Musk and management went out of their way to manage investor expectations around the closely watched Cybertruck launch, citing the difficulty of the ramp into 2024 and the negative impact the truck could have on margins and cash flow over the next 18 months, Jonas says in a research note.\\n\\n[Headline]: Tesla Stock Had a Horrible Day. Here’s What Comes Next.\\n[Summary]: Tesla  (ticker: TSLA) stock had another terrible day after earnings.  Shares tanked for the third consecutive time after the electric-vehicle maker reported quarterly numbers.  Price cuts pushed operating profit margins below 8%, down almost 10 percentage points year over year.\\n\\n[Headline]: Why Markets Were Thoroughly Confused After Fed Chair Powell\\'s Key Speech\\n[Summary]: Fed Chair Jerome Powell\\'s confusing speech on policy tightening caused market uncertainty and a decline in stock indices. Click here to read more.\\n\\nFrom 2023-10-22 to 2023-10-29, TSLA\\'s stock price decreased from 211.99 to 207.30. Company news during this period are listed below:\\n\\n[Headline]: GM’s Chevy Blazer EV Is a Winner, but No Victory Lap Until the Strike Is Over\\n[Summary]: MotorTrend named the all-electric Chevy Blazer the SUV of the year. GM needed a hit electric vehicle.\\n\\n[Headline]: Ford\\'s Disappointing Q3 EV Performance Overshadows Prospects Of A UAW Relief Rally\\n[Summary]: Ford Motor Company stock has declined 10% amid UAW strike and disappointing EV outlook. Does that make F stock a buy? We\\'re not so sure, click for our F outlook.\\n\\n[Headline]: Tesla\\'s Range Claims Questioned Again — This Time By The DOJ\\n[Summary]: Tesla Inc. is under investigation by the U.S. Department of Justice (DOJ) for potentially exaggerating the range of its electric vehicles (EVs). According to a July 27 report from Reuters, Tesla created a special \"diversion team\" to cancel service appointments from customers who complained about range issues. The report alleges that Tesla employees were directed to cancel range-related appointments. Reuters reported the team was created because the Tesla service centers were flooded with complai\\n\\n[Headline]: ‘The early adopters have adopted’: US carmakers slow their EV growth plans\\n[Summary]: US carmakers are pausing plans to expand their electric vehicle manufacturing capacity, as consumers buy battery-powered cars and trucks at slower rates than expected.  Ford, General Motors and Tesla have all pumped the brakes on expanding EV production capacity in recent weeks.  GM will delay building electrified versions of its Chevrolet Silverado and GMC Sierra pick-up trucks at a Michigan plant until 2025, instead of next year.\\n\\n[Headline]: Tesla\\'s Competition Are Feeling the Heat\\n[Summary]: In this week\\'s video, I cover need-to-know news items related to Tesla (NASDAQ: TSLA) during the week of Oct. 23. Today\\'s video will focus on Tesla\\'s sales numbers in the United States, China, and Europe; comments from Ford and General Motor\\'s CEOs on the electric vehicle (EV) struggles; and a look at Tesla stock from a technical analysis standpoint.\\n\\nFrom 2023-10-29 to 2023-11-05, TSLA\\'s stock price increased from 207.30 to 219.96. Company news during this period are listed below:\\n\\n[Headline]: Tesla’s Autopilot wasn’t faulty in related California crash, jury finds\\n[Summary]: A\\xa0Southern California jury on Tuesday found that the advanced driver-assistance system of a Tesla Inc. vehicle involved in a fatal crash in 2019 wasn’t...\\n\\n[Headline]: The UAW Strike Is Ending. Who Gets a Passing Grade—and Who Needs to Do Better.\\n[Summary]: Fain took over as UAW president in March.  Occasionally wearing camo or a T-shirt that said “Eat the Rich,” Fain devised a Patton-like strategy to strike all three auto makers at once and to expand the strike seemingly without provocation or warning.  Wages will rise about 25% over the life of the contract, wage tiers, which were prior concessions the Union made when auto makers were losing billions, are gone and there will be electric vehicle jobs filled by UAW workers.\\n\\n[Headline]: Unusual Put Option Trade in Tesla (TSLA)  Worth $216,344.00K\\n[Summary]: \\n\\n[Headline]: Elon Musk says AI will create a world ‘where no job is needed,’ but Nvidia billionaire Jensen Huang couldn’t disagree more: ‘Humans have a lot of ideas’\\n[Summary]: The Tesla and Nvidia CEOs expressed starkly different visions for the future of the economy, once AI reaches its full potential.\\n\\n[Headline]: ‘That is 72 months of death’: This young Texan took out 2 mega car loans with interest rates of 13% and 25% — and now he’s stuck. Here’s how to avoid being stranded by debt\\n[Summary]: Daniel said he also wants to add a new Tesla to his debt mix. Don’t be like Daniel.\\n\\n[Basic Financials]:\\n\\nNo basic financial reported.\\n\\nBased on all the information before 2023-11-05, let\\'s first analyze the positive developments and potential concerns for TSLA. Come up with 2-4 most important factors respectively and keep them concise. Most factors should be inferred from company related news. Then make your prediction of the TSLA stock price movement for next week (2023-11-05 to 2023-11-12). Provide a summary analysis to support your prediction.[/INST]',\n",
       " 'answer': \"[Positive Developments]:\\n1. Tesla's Autopilot system was ruled not faulty in a fatal California crash, a decision that may boost public trust in the company's advanced vehicle technology.\\n2. The resolution of the UAW strike may offer a more stable outlook for Tesla's manufacturing and production operations.\\n\\n[Potential Concerns]:\\n1. Tesla's Q3 results fell short of market expectations, delivering disappointing revenue growth and profit margins, which indicate potential weakness in the company's financial performance. \\n2. The company has reportedly been under a DOJ investigation for possibly exaggerating the range of its electric vehicles, which could harm its reputation and consumer trust. \\n3. Slowdown in the overall EV market, suggested by recent decisions from competitors GM and Ford to delay expansion, may impact Tesla's growth prospects. \\n\\n[Prediction & Analysis]:\\nPrediction: Down by 2-3%\\nAnalysis: Given these factors, my prediction for Tesla's stock price movement in the upcoming week is a decrease of 2-3%. While the positive developments add some level of confidence to the stability of Tesla's operations, the potential concerns raise significant red flags about the company's near-term performance outlook. Particularly, the weaker-than-expected Q3 results and ongoing DOJ investigation can significantly dampen investor sentiments and put downward pressure on the stock price. The potential dampening effect of the overall slowdown in the EV market could further exacerbate the negative sentiment. Thus, considering these risk factors, it seems reasonable to expect a downward trend in Tesla's stock price in the approaching week.\",\n",
       " 'period': '2023-11-05 to 2023-11-12',\n",
       " 'label': 'down by 2-3%',\n",
       " 'symbol': 'TSLA'}"
      ]
     },
     "execution_count": 82,
     "metadata": {},
     "output_type": "execute_result"
    }
   ],
   "source": [
    "eval[2]"
   ]
  }
 ],
 "metadata": {
  "kernelspec": {
   "display_name": "Python 3 (ipykernel)",
   "language": "python",
   "name": "python3"
  },
  "language_info": {
   "codemirror_mode": {
    "name": "ipython",
    "version": 3
   },
   "file_extension": ".py",
   "mimetype": "text/x-python",
   "name": "python",
   "nbconvert_exporter": "python",
   "pygments_lexer": "ipython3",
   "version": "3.10.9"
  }
 },
 "nbformat": 4,
 "nbformat_minor": 5
}
